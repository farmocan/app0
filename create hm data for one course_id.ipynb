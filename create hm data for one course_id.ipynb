{
 "cells": [
  {
   "cell_type": "code",
   "execution_count": 908,
   "metadata": {},
   "outputs": [
    {
     "name": "stdout",
     "output_type": "stream",
     "text": [
      "Once deleted, variables cannot be recovered. Proceed (y/[n])? y\n"
     ]
    }
   ],
   "source": [
    "%reset"
   ]
  },
  {
   "cell_type": "code",
   "execution_count": 909,
   "metadata": {},
   "outputs": [
    {
     "data": {
      "text/plain": [
       "'C:\\\\python 3.8\\\\app0'"
      ]
     },
     "execution_count": 909,
     "metadata": {},
     "output_type": "execute_result"
    }
   ],
   "source": [
    "import os\n",
    "import pandas\n",
    "import json\n",
    "import re #remove_tags function\n",
    "os.chdir('C:\\\\python 3.8\\\\app0')\n",
    "os.getcwd()"
   ]
  },
  {
   "cell_type": "code",
   "execution_count": 910,
   "metadata": {},
   "outputs": [],
   "source": [
    "#+ function\n",
    "##  remove tag\n",
    "TAG_RE = re.compile(r'<[^>]+>')\n",
    "\n",
    "def remove_tags(text):\n",
    "    return TAG_RE.sub('', text)"
   ]
  },
  {
   "cell_type": "code",
   "execution_count": 911,
   "metadata": {},
   "outputs": [
    {
     "name": "stdout",
     "output_type": "stream",
     "text": [
      "C:\\python 3.8\\app0\\data\\one_branch.csv\n"
     ]
    }
   ],
   "source": [
    "filedir = 'data\\\\one_branch.csv'\n",
    "filedir_all = os.getcwd() + '\\\\' + filedir\n",
    "print(filedir_all)\n",
    "\n",
    "data = pandas.read_csv(filedir_all)\n",
    "\n",
    "#needed zip upload 124 + convert to pandas data frame\n",
    "data124 = data[data.course_id == 124]\n",
    "data124 = pandas.DataFrame(data124)\n"
   ]
  },
  {
   "cell_type": "code",
   "execution_count": 912,
   "metadata": {},
   "outputs": [],
   "source": [
    "#convert ['q_update_ts'] to time#\n",
    "#################################\n",
    "data124['q_update_ts'] = pandas.to_datetime(data124['q_update_ts'])"
   ]
  },
  {
   "cell_type": "code",
   "execution_count": 913,
   "metadata": {},
   "outputs": [],
   "source": [
    "#pure text\n",
    "\n",
    "data124['text'] = data124['prompt'].apply(lambda x: \n",
    "                     remove_tags(json.loads(x)['definition']['value']))\n",
    "#delete quitation mark\n",
    "#data124['text'] =  data124['text'].str.replace('\"', '') #delete quotes\n"
   ]
  },
  {
   "cell_type": "code",
   "execution_count": 914,
   "metadata": {},
   "outputs": [
    {
     "name": "stdout",
     "output_type": "stream",
     "text": [
      "max 2019-02-27 14:13:00.295\n",
      "min 2017-07-30 09:25:04.691\n"
     ]
    }
   ],
   "source": [
    "#print(data124['update_ts'].unique())\n",
    "print('max ' + data124['update_ts'].max())\n",
    "print('min ' + data124['update_ts'].min())\n"
   ]
  },
  {
   "cell_type": "code",
   "execution_count": 915,
   "metadata": {},
   "outputs": [],
   "source": [
    "## create group for future aggregate\n",
    "\n",
    "#position id\n",
    "grouped = data124.groupby(['m_ord', 'l_ord', 'i_ord', 'subi_ord', 'aq_ord'])\n",
    "\n",
    "#position - aq_ord + internal_id ##'i_ord', 'subi_ord',\n",
    "grouped_ext_id = data124.groupby(['m_ord', 'l_ord',  'internal_id'])"
   ]
  },
  {
   "cell_type": "code",
   "execution_count": 916,
   "metadata": {},
   "outputs": [],
   "source": [
    "#tab0 OR статистика posit id\n",
    "tab0 = grouped.agg(question_ext_id = ('question_ext_id', 'nunique'),\n",
    "                   text = ('text', 'nunique'),\n",
    "                   internal_id = ('internal_id', 'nunique'),\n",
    "                   cnt_pos = ('cnt', 'sum')\n",
    "                  ).reset_index()\n",
    "\n",
    "tab0.to_csv('data\\\\migrated internal_id\\\\tab0.csv', sep = ';', encoding='utf-8', index=False)"
   ]
  },
  {
   "cell_type": "code",
   "execution_count": 917,
   "metadata": {},
   "outputs": [
    {
     "name": "stdout",
     "output_type": "stream",
     "text": [
      "res.shape -->\n",
      "(76, 7)\n",
      "    m_ord  l_ord               internal_id  question_ext_id  UNIQUEtext   cnt  \\\n",
      "50      4      0  -wrc6Xn5EeeuOwpUSrH9EA@0                3           2  1466   \n",
      "51      4      0  2FH6wnn8EeeuOwpUSrH9EA@0                3           1  1466   \n",
      "52      4      0  CEyubnn5EeeuOwpUSrH9EA@0                3           2  1466   \n",
      "53      4      0  FRTbmXn7EeeYfg4705Ecjg@0                5           3  1466   \n",
      "54      4      0  FxhwbXn3EeeYfg4705Ecjg@0                5           1  1466   \n",
      "55      4      0  O3xw93n8EeeLFhJpxYB-cA@0                4           2  1466   \n",
      "56      4      0  SITYY3n6EeeLFhJpxYB-cA@0                3           3  1466   \n",
      "57      4      0  dXlxRXn5EeeuOwpUSrH9EA@0                3           2  1466   \n",
      "58      4      0  hbI7XXn4EeeYfg4705Ecjg@0                2           2   263   \n",
      "59      4      2  AcUTL540Eee3phJkV4lW2g@0                1           1   574   \n",
      "60      4      2  DbXB0541Eee3phJkV4lW2g@0                1           1   574   \n",
      "61      4      2  Tzt69p42Eee3phJkV4lW2g@0                2           2   574   \n",
      "62      4      2  WvflE56kEee3phJkV4lW2g@0                1           1   574   \n",
      "63      4      2  _1Yj1541EeenWgoS_u1Cfg@0                2           2   574   \n",
      "64      4      2  i9V3aZ40EeeUvw5FXKqq-g@0                1           1   574   \n",
      "65      4      2  jlOPd543Eee3phJkV4lW2g@0                1           1   574   \n",
      "66      4      2  q1BI6p6kEee3phJkV4lW2g@0                1           1   574   \n",
      "67      4      2  vbkcwJ41EeenWgoS_u1Cfg@0                1           1   574   \n",
      "\n",
      "                  update_ts  \n",
      "50  2018-03-19 08:07:48.052  \n",
      "51  2018-04-26 19:53:58.754  \n",
      "52  2018-04-26 19:53:58.754  \n",
      "53   2018-04-27 15:01:42.81  \n",
      "54   2018-04-26 19:53:58.78  \n",
      "55    2018-04-27 15:01:42.8  \n",
      "56  2018-03-19 08:07:47.993  \n",
      "57  2018-03-19 08:07:48.056  \n",
      "58   2017-10-24 23:23:36.47  \n",
      "59   2017-09-20 18:57:14.25  \n",
      "60  2017-09-20 18:57:14.261  \n",
      "61  2019-02-27 14:13:00.295  \n",
      "62  2017-09-21 08:16:49.294  \n",
      "63  2019-02-27 14:13:00.282  \n",
      "64   2017-09-20 18:57:14.26  \n",
      "65  2017-09-20 19:14:27.861  \n",
      "66  2017-09-21 08:16:49.291  \n",
      "67   2017-09-20 19:14:27.85  \n"
     ]
    }
   ],
   "source": [
    "#sum of cnt\n",
    "#maximum time of change 'update_ts'\n",
    "res = grouped_ext_id.agg(question_ext_id = ('question_ext_id', 'nunique'),\n",
    "                         UNIQUEtext = ('text', 'nunique'),\n",
    "                         cnt = ('cnt', 'sum'),\n",
    "                         update_ts = ('update_ts', 'max')                         \n",
    "                        ).reset_index()\n",
    "\n",
    "#stat!\n",
    "print('res.shape -->')\n",
    "print(res.shape)\n",
    "#print('res.columns -->')\n",
    "#print(res.columns)\n",
    "print(res[res.m_ord == 4])"
   ]
  },
  {
   "cell_type": "code",
   "execution_count": 918,
   "metadata": {},
   "outputs": [],
   "source": [
    "#create posit for res ##'i_ord', 'subi_ord', \n",
    "column_for_posit = ['m_ord', 'l_ord', 'internal_id', 'update_ts']\n",
    "#\n",
    "res['posit'] = res[column_for_posit].astype(str).apply('|'.join,1)\n",
    "#print('res.columns -->')\n",
    "#res.columns"
   ]
  },
  {
   "cell_type": "code",
   "execution_count": 919,
   "metadata": {},
   "outputs": [
    {
     "name": "stdout",
     "output_type": "stream",
     "text": [
      "(319, 2)\n",
      "(214, 2)\n"
     ]
    }
   ],
   "source": [
    "#create posit for original -не совсем position\n",
    "data124['posit'] = data124[column_for_posit].astype(str).apply('|'.join,1)\n",
    "\n",
    "#data124.head\n",
    "data124_pos_text = data124[['posit', 'text']]\n",
    "print(data124_pos_text.shape)\n",
    "\n",
    "#drop_duplicates\n",
    "data124_pos_text = data124_pos_text.drop_duplicates(subset = 'posit') \n",
    "print(data124_pos_text.shape)\n",
    "\n",
    "#save\n",
    "##data124_pos_text.to_csv('data\\\\migrated internal_id\\\\origdata124_posit_abbr.csv', encoding='utf-8')"
   ]
  },
  {
   "cell_type": "code",
   "execution_count": 920,
   "metadata": {},
   "outputs": [
    {
     "name": "stdout",
     "output_type": "stream",
     "text": [
      "res.shape -->\n",
      "(76, 8)\n",
      "result.shape -->\n",
      "(76, 9)\n",
      "result.columns -->\n",
      "Index(['m_ord', 'l_ord', 'internal_id', 'question_ext_id', 'UNIQUEtext', 'cnt',\n",
      "       'update_ts', 'posit', 'text'],\n",
      "      dtype='object')\n"
     ]
    }
   ],
   "source": [
    "#merge two data frames\n",
    "print('res.shape -->')\n",
    "print(res.shape)\n",
    "\n",
    "result = pandas.merge(res, data124_pos_text, how='left', on='posit', indicator=False)\n",
    "\n",
    "print('result.shape -->')\n",
    "print(result.shape)\n",
    "print('result.columns -->')\n",
    "print(result.columns)\n",
    "\n",
    "#result"
   ]
  },
  {
   "cell_type": "code",
   "execution_count": 921,
   "metadata": {},
   "outputs": [],
   "source": [
    "#ord data by l + i + subi + aq_ord + cnt ##- 'i_ord', 'subi_ord',\n",
    "ord_columns = ['m_ord', 'l_ord',  'cnt']\n",
    "result = result.sort_values(by=ord_columns)\n",
    "\n",
    "#look m_ord == 4\n",
    "##mydata = result[result.m_ord == 4]\n",
    "##mydata.to_csv('data\\\\migrated internal_id\\\\data_m_ord4.csv', sep = ';', encoding='utf-8', index=False)"
   ]
  },
  {
   "cell_type": "code",
   "execution_count": 922,
   "metadata": {},
   "outputs": [],
   "source": [
    "#print(result.dtypes) ##, 'i_ord', 'subi_ord'\n",
    "column_for_posit = ['m_ord', 'l_ord'] #for ranking\n",
    "result['pos_for_rank'] = result[column_for_posit].astype(str).apply(''.join,1)\n",
    "\n",
    "# convert column 'pos_for_rank' to numeric\n",
    "result['pos_for_rank_num'] = pandas.to_numeric(result['pos_for_rank'])\n",
    "\n",
    "\n",
    "result['x_pos'] = result.groupby('m_ord')['pos_for_rank_num'].rank(method='first').astype(int)\n",
    "result['y_pos'] = result['m_ord'] + 1\n",
    "\n",
    "needed_col = ['m_ord', 'l_ord', 'y_pos', 'x_pos',  'internal_id', 'question_ext_id', 'UNIQUEtext', 'update_ts', 'cnt',  'text']\n",
    "result = result[needed_col]\n",
    "\n",
    "result.to_csv('data\\\\migrated internal_id\\\\tab1.csv', sep = ';', encoding='utf-8', index=False)\n",
    "\n"
   ]
  },
  {
   "cell_type": "code",
   "execution_count": 923,
   "metadata": {},
   "outputs": [],
   "source": [
    "####grouped_ext_id--2#### indexes!\n",
    "## res = grouped_ext_id.agg(cnt = ('cnt', 'sum'),\n",
    "##                          update_ts = ('update_ts', 'max'))\n",
    "#pandas.DataFrame(res)"
   ]
  },
  {
   "cell_type": "code",
   "execution_count": 924,
   "metadata": {},
   "outputs": [],
   "source": [
    "####grouped_ext_id####\n",
    "\n",
    "#res_ext_id = grouped_ext_id['cnt'].sum()\n",
    "#res_ext_id.to_csv('data\\\\agg_ext_id_sum.csv', encoding='utf-8')\n",
    "\n",
    "#last changed date time in internal_id             \n",
    "#res = grouped_ext_id['update_ts'].agg('max')\n",
    "\n",
    "#res.to_csv('data\\\\last_date_time__internal_id.csv', encoding='utf-8')"
   ]
  },
  {
   "cell_type": "code",
   "execution_count": 925,
   "metadata": {},
   "outputs": [],
   "source": [
    "#result.groupby(['m_ord'])\n",
    "\n",
    "\n",
    "#result['pos_id'] = result[['m_ord', 'l_ord', 'i_ord', 'subi_ord']].astype(str).apply('|'.join,1)\n",
    "\n",
    "#stat_result = result.groupby(['m_ord']).agg(\n",
    "#    posit_id = ( 'pos_id', 'nunique'),\n",
    "#    internal_id = ('internal_id', 'nunique')\n",
    "#    ).reset_index()\n",
    "\n",
    "#print(result[result.m_ord == 4])\n",
    "#stat_result.to_csv('data\\\\statistics-2_tab1.csv', sep = ';', encoding='utf-8', index=False)\n"
   ]
  }
 ],
 "metadata": {
  "kernelspec": {
   "display_name": "Python 3",
   "language": "python",
   "name": "python3"
  },
  "language_info": {
   "codemirror_mode": {
    "name": "ipython",
    "version": 3
   },
   "file_extension": ".py",
   "mimetype": "text/x-python",
   "name": "python",
   "nbconvert_exporter": "python",
   "pygments_lexer": "ipython3",
   "version": "3.7.6"
  }
 },
 "nbformat": 4,
 "nbformat_minor": 4
}
