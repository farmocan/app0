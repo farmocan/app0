{
 "cells": [
  {
   "cell_type": "code",
   "execution_count": 85,
   "metadata": {},
   "outputs": [
    {
     "name": "stdout",
     "output_type": "stream",
     "text": [
      "Once deleted, variables cannot be recovered. Proceed (y/[n])? y\n"
     ]
    }
   ],
   "source": [
    "%reset\n",
    "\n",
    "import os\n",
    "import pandas\n",
    "import json\n",
    "import re #remove_tags function\n",
    "os.chdir('C:\\\\python 3.8\\\\app0')\n",
    "os.getcwd()\n",
    "\n",
    "#+ function\n",
    "##  remove tag\n",
    "TAG_RE = re.compile(r'<[^>]+>')\n",
    "\n",
    "def remove_tags(text):\n",
    "    return TAG_RE.sub('', text)"
   ]
  },
  {
   "cell_type": "code",
   "execution_count": 86,
   "metadata": {},
   "outputs": [
    {
     "name": "stdout",
     "output_type": "stream",
     "text": [
      "C:\\python 3.8\\app0\\data\\data-1588062239620.csv\n"
     ]
    }
   ],
   "source": [
    "filedir = 'data\\\\data-1588062239620.csv'\n",
    "filedir_all = os.getcwd() + '\\\\' + filedir\n",
    "print(filedir_all)\n",
    "\n",
    "data = pandas.read_csv(filedir_all)\n",
    "\n",
    "data = pandas.DataFrame(data)"
   ]
  },
  {
   "cell_type": "code",
   "execution_count": 87,
   "metadata": {},
   "outputs": [
    {
     "name": "stdout",
     "output_type": "stream",
     "text": [
      "(24153, 57)\n",
      "76\n"
     ]
    }
   ],
   "source": [
    "print(data.shape)\n",
    "print(data['cname'].nunique())\n",
    "#print(data.groupby('cname').count())\n",
    "stat_cname = data.groupby('cname').count()\n",
    "stat_cname.to_csv('data\\\\full_stat\\\\stat_cname.csv', sep = ';', encoding='utf-8-sig')"
   ]
  },
  {
   "cell_type": "code",
   "execution_count": 88,
   "metadata": {},
   "outputs": [
    {
     "name": "stdout",
     "output_type": "stream",
     "text": [
      "max 2020-03-12 07:58:50.445738\n",
      "min 2015-04-13 19:51:47.225\n"
     ]
    }
   ],
   "source": [
    "#convert ['q_update_ts'] to time#\n",
    "#################################\n",
    "data['q_update_ts'] = pandas.to_datetime(data['q_update_ts'])\n",
    "\n",
    "#stat\n",
    "print('max ' + data['update_ts'].max())\n",
    "print('min ' + data['update_ts'].min())"
   ]
  },
  {
   "cell_type": "code",
   "execution_count": 89,
   "metadata": {},
   "outputs": [],
   "source": [
    "#pure text\n",
    "\n",
    "data['text'] = data['prompt'].apply(lambda x:\n",
    "                                    remove_tags(json.loads(x)['definition']['value']))"
   ]
  },
  {
   "cell_type": "code",
   "execution_count": 90,
   "metadata": {},
   "outputs": [],
   "source": [
    "## create group for future aggregate\n",
    "\n",
    "#position id\n",
    "grouped = data.groupby(['cname','bid','course_id',\n",
    "                        'm_ord', 'l_ord', 'i_ord', 'subi_ord', 'aq_ord'])\n",
    "\n",
    "#position - aq_ord + internal_id ##'i_ord', 'subi_ord',\n",
    "grouped_ext_id = data.groupby(['cname','bid','course_id',\n",
    "                               'm_ord', 'l_ord',  'internal_id'])"
   ]
  },
  {
   "cell_type": "code",
   "execution_count": 91,
   "metadata": {},
   "outputs": [],
   "source": [
    "#tab0 OR статистика posit id\n",
    "tab0 = grouped.agg(question_ext_id = ('question_ext_id', 'nunique'),\n",
    "                   text = ('text', 'nunique'),\n",
    "                   internal_id = ('internal_id', 'nunique'),\n",
    "                   cnt_pos = ('cnt', 'sum')\n",
    "                  ).reset_index()\n",
    "\n",
    "tab0.to_csv('data\\\\full_stat\\\\tab0.csv', sep = ';', encoding='utf-8', index=False)"
   ]
  },
  {
   "cell_type": "code",
   "execution_count": 92,
   "metadata": {},
   "outputs": [
    {
     "name": "stdout",
     "output_type": "stream",
     "text": [
      "res.shape -->\n",
      "(9666, 11)\n"
     ]
    }
   ],
   "source": [
    "#sum of cnt\n",
    "#maximum time of change 'update_ts'\n",
    "res = grouped_ext_id.agg(question_ext_id = ('question_ext_id', 'nunique'),\n",
    "                         UNIQUEtext = ('text', 'nunique'),\n",
    "                         tot_num = ('tot_num', 'sum'),\n",
    "                         cnt = ('cnt', 'sum'),\n",
    "                         update_ts = ('update_ts', 'max')                         \n",
    "                        ).reset_index()\n",
    "\n",
    "#stat!\n",
    "print('res.shape -->')\n",
    "print(res.shape)\n",
    "#print('res.columns -->')\n",
    "#print(res.columns)\n",
    "#print(res[res.m_ord == 4])"
   ]
  },
  {
   "cell_type": "code",
   "execution_count": 93,
   "metadata": {},
   "outputs": [],
   "source": [
    "#create posit for res ##'i_ord', 'subi_ord', \n",
    "column_for_posit = ['cname','bid','course_id', 'm_ord', 'l_ord', 'internal_id', 'update_ts']\n",
    "#\n",
    "res['posit'] = res[column_for_posit].astype(str).apply('|'.join,1)\n",
    "#print('res.columns -->')\n",
    "#res.columns"
   ]
  },
  {
   "cell_type": "code",
   "execution_count": 94,
   "metadata": {},
   "outputs": [
    {
     "name": "stdout",
     "output_type": "stream",
     "text": [
      "(24153, 2)\n",
      "(12428, 2)\n"
     ]
    }
   ],
   "source": [
    "#create posit for original -не совсем position\n",
    "data['posit'] = data[column_for_posit].astype(str).apply('|'.join,1)\n",
    "\n",
    "#data124.head\n",
    "data_pos_text = data[['posit', 'text']]\n",
    "print(data_pos_text.shape)\n",
    "\n",
    "#drop_duplicates\n",
    "data_pos_text = data_pos_text.drop_duplicates(subset = 'posit') \n",
    "print(data_pos_text.shape)"
   ]
  },
  {
   "cell_type": "code",
   "execution_count": 95,
   "metadata": {},
   "outputs": [
    {
     "name": "stdout",
     "output_type": "stream",
     "text": [
      "res.shape -->\n",
      "(9666, 12)\n",
      "result.shape -->\n",
      "(9666, 13)\n",
      "result.columns -->\n",
      "Index(['cname', 'bid', 'course_id', 'm_ord', 'l_ord', 'internal_id',\n",
      "       'question_ext_id', 'UNIQUEtext', 'tot_num', 'cnt', 'update_ts', 'posit',\n",
      "       'text'],\n",
      "      dtype='object')\n"
     ]
    }
   ],
   "source": [
    "#merge two data frames\n",
    "print('res.shape -->')\n",
    "print(res.shape)\n",
    "\n",
    "result = pandas.merge(res, data_pos_text, how='left', on='posit', indicator=False)\n",
    "\n",
    "print('result.shape -->')\n",
    "print(result.shape)\n",
    "print('result.columns -->')\n",
    "print(result.columns)\n",
    "\n",
    "#result"
   ]
  },
  {
   "cell_type": "code",
   "execution_count": 96,
   "metadata": {},
   "outputs": [],
   "source": [
    "#ord data by l + i + subi + aq_ord + cnt ##- 'i_ord', 'subi_ord',\n",
    "ord_columns = ['cname','bid','course_id', 'm_ord', 'l_ord',  'cnt']\n",
    "result = result.sort_values(by=ord_columns)"
   ]
  },
  {
   "cell_type": "code",
   "execution_count": 97,
   "metadata": {},
   "outputs": [],
   "source": [
    "#print(result.dtypes) ##, 'i_ord', 'subi_ord'\n",
    "column_for_posit = [ 'm_ord', 'l_ord'] #for ranking\n",
    "result['pos_for_rank'] = result[column_for_posit].astype(str).apply(''.join,1)\n",
    "\n",
    "# convert column 'pos_for_rank' to numeric\n",
    "result['pos_for_rank_num'] = pandas.to_numeric(result['pos_for_rank'])\n",
    "\n",
    "\n",
    "result['x_pos'] = result.groupby(['cname','bid','course_id','m_ord'])['pos_for_rank_num'].rank(method='first').astype(int)\n",
    "result['y_pos'] = result['m_ord'] + 1\n",
    "\n",
    "needed_col = ['cname','bid','course_id', 'm_ord', 'l_ord', 'y_pos',  'x_pos', 'internal_id', 'question_ext_id', 'UNIQUEtext', 'update_ts', 'tot_num','cnt',  'text'] #\n",
    "result = result[needed_col]\n",
    "\n",
    "result.to_csv('data\\\\full_stat\\\\tab1.csv', sep = ';', encoding='utf-8-sig', index=False)\n",
    "\n"
   ]
  }
 ],
 "metadata": {
  "kernelspec": {
   "display_name": "Python 3",
   "language": "python",
   "name": "python3"
  },
  "language_info": {
   "codemirror_mode": {
    "name": "ipython",
    "version": 3
   },
   "file_extension": ".py",
   "mimetype": "text/x-python",
   "name": "python",
   "nbconvert_exporter": "python",
   "pygments_lexer": "ipython3",
   "version": "3.7.6"
  }
 },
 "nbformat": 4,
 "nbformat_minor": 4
}
